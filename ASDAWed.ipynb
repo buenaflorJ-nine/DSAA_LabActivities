{
  "nbformat": 4,
  "nbformat_minor": 0,
  "metadata": {
    "colab": {
      "provenance": [],
      "authorship_tag": "ABX9TyOzJETK4aeFRvwPTwKkqudf",
      "include_colab_link": true
    },
    "kernelspec": {
      "name": "python3",
      "display_name": "Python 3"
    },
    "language_info": {
      "name": "python"
    }
  },
  "cells": [
    {
      "cell_type": "markdown",
      "metadata": {
        "id": "view-in-github",
        "colab_type": "text"
      },
      "source": [
        "<a href=\"https://colab.research.google.com/github/buenaflorJ-nine/DSAA_LabActivities/blob/main/ASDAWed.ipynb\" target=\"_parent\"><img src=\"https://colab.research.google.com/assets/colab-badge.svg\" alt=\"Open In Colab\"/></a>"
      ]
    },
    {
      "cell_type": "code",
      "execution_count": 1,
      "metadata": {
        "colab": {
          "base_uri": "https://localhost:8080/"
        },
        "id": "uAYzPtKMkhNv",
        "outputId": "b244dd9a-ab25-4c3c-c87b-8501366bacf7"
      },
      "outputs": [
        {
          "output_type": "stream",
          "name": "stdout",
          "text": [
            "Polygon name: Triangle\n",
            "Number of sides: 3\n",
            "Area: 6.0\n"
          ]
        }
      ],
      "source": [
        "class Polygons:\n",
        "    def __init__(self, name, num_sides, area):\n",
        "        self.name = name\n",
        "        self.num_sides = num_sides\n",
        "        self.area = area\n",
        "    def set_name(self, name):\n",
        "        self.name = name\n",
        "    def set_num_sides(self, num_sides):\n",
        "        self.num_sides = num_sides\n",
        "    def set_area(self, area):\n",
        "        self.area = area\n",
        "    def get_name(self):\n",
        "        return self.name\n",
        "    def get_num_sides(self):\n",
        "        return self.num_sides\n",
        "    def get_area(self):\n",
        "        return self.area\n",
        "polygon = Polygons(\"Triangle\", 3, 6.0)\n",
        "print(\"Polygon name:\", polygon.get_name())\n",
        "print(\"Number of sides:\", polygon.get_num_sides())\n",
        "print(\"Area:\", polygon.get_area())"
      ]
    },
    {
      "cell_type": "code",
      "source": [
        "\n",
        "x = float(input(\"Enter a value for x:\"))\n",
        "if x < 0:\n",
        "    f_x = -x\n",
        "else:\n",
        "    f_x = x\n",
        "print(\"f(x) =\", f_x)"
      ],
      "metadata": {
        "colab": {
          "base_uri": "https://localhost:8080/"
        },
        "id": "rCKAqADkkv7_",
        "outputId": "240658ab-dddf-4090-b14d-fef8314459a8"
      },
      "execution_count": 2,
      "outputs": [
        {
          "output_type": "stream",
          "name": "stdout",
          "text": [
            "Enter a value for x:-2\n",
            "f(x) = 2.0\n"
          ]
        }
      ]
    }
  ]
}