{
  "nbformat": 4,
  "nbformat_minor": 0,
  "metadata": {
    "colab": {
      "provenance": [],
      "authorship_tag": "ABX9TyNgb+G8w63cpdlEuAxJdeZW",
      "include_colab_link": true
    },
    "kernelspec": {
      "name": "python3",
      "display_name": "Python 3"
    },
    "language_info": {
      "name": "python"
    }
  },
  "cells": [
    {
      "cell_type": "markdown",
      "metadata": {
        "id": "view-in-github",
        "colab_type": "text"
      },
      "source": [
        "<a href=\"https://colab.research.google.com/github/buenaflorJ-nine/DSAA_LabActivities/blob/main/LAB_6.ipynb\" target=\"_parent\"><img src=\"https://colab.research.google.com/assets/colab-badge.svg\" alt=\"Open In Colab\"/></a>"
      ]
    },
    {
      "cell_type": "code",
      "source": [
        "elements = ['a', 'b', 'c', 'd', 'e', 'f']\n",
        "access_sequence = ['a', 'b', 'c', 'd', 'e', 'f', 'a', 'c', 'f', 'b', 'd', 'e']\n",
        "\n",
        "def move_to_front(list, element):\n",
        "    list.insert(0, list.pop(list.index(element)))\n",
        "\n",
        "for element in access_sequence:\n",
        "    move_to_front(elements, element)\n",
        "\n",
        "print(elements)"
      ],
      "metadata": {
        "colab": {
          "base_uri": "https://localhost:8080/"
        },
        "id": "_5fV8r5L23YB",
        "outputId": "0cfbce5b-c8c4-4dd2-b54d-8a4376741753"
      },
      "execution_count": 2,
      "outputs": [
        {
          "output_type": "stream",
          "name": "stdout",
          "text": [
            "['e', 'd', 'b', 'f', 'c', 'a']\n"
          ]
        }
      ]
    },
    {
      "cell_type": "code",
      "execution_count": 1,
      "metadata": {
        "colab": {
          "base_uri": "https://localhost:8080/"
        },
        "id": "AiBWmyyA2kzq",
        "outputId": "57670ed9-08f7-4ba2-f121-53e91bfffdb3"
      },
      "outputs": [
        {
          "output_type": "stream",
          "name": "stdout",
          "text": [
            "Number of items: 6\n",
            "Doubly Linked List in reverse:\n",
            "f\n",
            "e\n",
            "d\n",
            "c\n",
            "b\n",
            "a\n",
            "z\n"
          ]
        }
      ],
      "source": [
        "class Node:\n",
        "    def __init__(self, data):\n",
        "        self.data = data\n",
        "        self.prev = None\n",
        "        self.next = None\n",
        "\n",
        "class DoublyLinkedList:\n",
        "    def __init__(self):\n",
        "        self.head = None\n",
        "\n",
        "    def append(self, data):\n",
        "        new_node = Node(data)\n",
        "        if self.head is None:\n",
        "            self.head = new_node\n",
        "        else:\n",
        "            current = self.head\n",
        "            while current.next:\n",
        "                current = current.next\n",
        "            current.next = new_node\n",
        "            new_node.prev = current\n",
        "\n",
        "    def count_items(self):\n",
        "        count = 0\n",
        "        current = self.head\n",
        "        while current:\n",
        "            count += 1\n",
        "            current = current.next\n",
        "        return count\n",
        "\n",
        "    def insert_front(self, data):\n",
        "        new_node = Node(data)\n",
        "        new_node.next = self.head\n",
        "        if self.head:\n",
        "            self.head.prev = new_node\n",
        "        self.head = new_node\n",
        "\n",
        "    def print_reverse(self):\n",
        "        current = self.head\n",
        "        while current and current.next:\n",
        "            current = current.next\n",
        "        while current:\n",
        "            print(current.data)\n",
        "            current = current.prev\n",
        "\n",
        "\n",
        "\n",
        "elements = ['a', 'b', 'c', 'd', 'e', 'f']\n",
        "dll = DoublyLinkedList()\n",
        "\n",
        "for element in elements:\n",
        "    dll.append(element)\n",
        "\n",
        "\n",
        "print(\"Number of items:\", dll.count_items())\n",
        "\n",
        "\n",
        "dll.insert_front('z')\n",
        "\n",
        "\n",
        "print(\"Doubly Linked List in reverse:\")\n",
        "dll.print_reverse()"
      ]
    }
  ]
}