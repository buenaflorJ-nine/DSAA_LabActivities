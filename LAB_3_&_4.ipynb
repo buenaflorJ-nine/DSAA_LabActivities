{
  "nbformat": 4,
  "nbformat_minor": 0,
  "metadata": {
    "colab": {
      "provenance": [],
      "authorship_tag": "ABX9TyPinDOaFoy0QXjzQHrJF6g8",
      "include_colab_link": true
    },
    "kernelspec": {
      "name": "python3",
      "display_name": "Python 3"
    },
    "language_info": {
      "name": "python"
    }
  },
  "cells": [
    {
      "cell_type": "markdown",
      "metadata": {
        "id": "view-in-github",
        "colab_type": "text"
      },
      "source": [
        "<a href=\"https://colab.research.google.com/github/buenaflorJ-nine/DSAA_LabActivities/blob/main/LAB_3_%26_4.ipynb\" target=\"_parent\"><img src=\"https://colab.research.google.com/assets/colab-badge.svg\" alt=\"Open In Colab\"/></a>"
      ]
    },
    {
      "cell_type": "code",
      "execution_count": 2,
      "metadata": {
        "colab": {
          "base_uri": "https://localhost:8080/"
        },
        "id": "4ONnvwH2Gn9Y",
        "outputId": "289f1137-0b0b-4bc7-8b17-51504e1c8f9c"
      },
      "outputs": [
        {
          "output_type": "stream",
          "name": "stdout",
          "text": [
            "The sum of the test scores of even numbers is:  186\n"
          ]
        }
      ],
      "source": [
        "#CpEople\n",
        "test_scores = [26,49,98,87,62,75]\n",
        "sum_test_scores = 0\n",
        "count_even = 0\n",
        "\n",
        "for score in test_scores:\n",
        "    if score % 2 == 0:\n",
        "        count_even += 1\n",
        "        sum_test_scores += score\n",
        "print(\"The sum of the test scores of even numbers is: \", sum_test_scores)"
      ]
    },
    {
      "cell_type": "code",
      "source": [
        "\n",
        "#CpEople\n",
        "def find_repeated_number(nums):\n",
        "    tortoise = hare = nums[0]\n",
        "\n",
        "    while True:\n",
        "        tortoise = nums[tortoise]\n",
        "        hare = nums[nums[hare]]\n",
        "\n",
        "        if tortoise == hare:\n",
        "            break\n",
        "\n",
        "    ptr1 = nums[0]\n",
        "    ptr2 = tortoise\n",
        "\n",
        "    while ptr1 != ptr2:\n",
        "        ptr1 = nums[ptr1]\n",
        "        ptr2 = nums[ptr2]\n",
        "\n",
        "    return ptr1\n",
        "\n",
        "nums = [4, 2, 1, 2, 3]\n",
        "print(\"Repeated number is:\", find_repeated_number(nums))\n",
        "\n",
        "#CpEople\n",
        "def caesar_cipher(message, shift):\n",
        "    alphabet = 'abcdefghijklmnopqrstuvwxyzABCDEFGHIJKLMNOPQRSTUVWXYZ'\n",
        "    shifted_alphabet = alphabet[shift:] + alphabet[:shift]\n",
        "    translated = ''\n",
        "    for i in message:\n",
        "        if i in alphabet:\n",
        "            translated += shifted_alphabet[alphabet.index(i)]\n",
        "        else:\n",
        "            translated += i\n",
        "    return translated\n",
        "\n",
        "message = \"Good Day!, We are CpEople <3\"\n",
        "shift = 6\n",
        "\n",
        "encrypted_message = caesar_cipher(message, shift)\n",
        "print(\"Encrypted text is:\", encrypted_message)"
      ],
      "metadata": {
        "colab": {
          "base_uri": "https://localhost:8080/"
        },
        "id": "fpmUQuhoQg1f",
        "outputId": "c6082647-72eb-4c41-8ecd-a1fd61a0463b"
      },
      "execution_count": 27,
      "outputs": [
        {
          "output_type": "stream",
          "name": "stdout",
          "text": [
            "Repeated number is: 2\n",
            "Encrypted text is: Muuj JgE!, ck gxk IvKuvrk <3\n"
          ]
        }
      ]
    }
  ]
}