{
  "nbformat": 4,
  "nbformat_minor": 0,
  "metadata": {
    "colab": {
      "provenance": [],
      "authorship_tag": "ABX9TyOMlkJJUoDQNIrCQmC4gITT",
      "include_colab_link": true
    },
    "kernelspec": {
      "name": "python3",
      "display_name": "Python 3"
    },
    "language_info": {
      "name": "python"
    }
  },
  "cells": [
    {
      "cell_type": "markdown",
      "metadata": {
        "id": "view-in-github",
        "colab_type": "text"
      },
      "source": [
        "<a href=\"https://colab.research.google.com/github/buenaflorJ-nine/DSAA_LabActivities/blob/main/LAB_5.ipynb\" target=\"_parent\"><img src=\"https://colab.research.google.com/assets/colab-badge.svg\" alt=\"Open In Colab\"/></a>"
      ]
    },
    {
      "cell_type": "code",
      "source": [
        "#1\n",
        "from array import array\n",
        "ArrayofTen = array('i', [1, 2, 3, 4, 5, 6, 7, 8, 9, 10])\n",
        "print(\"Array Items:\", ArrayofTen)\n",
        "\n",
        "for i in range(len(ArrayofTen)):\n",
        "    print(f\"element @ index {i}: {ArrayofTen[i]}\")\n",
        "arraysum = sum(ArrayofTen)\n",
        "print(\"Sum:\", arraysum)"
      ],
      "metadata": {
        "colab": {
          "base_uri": "https://localhost:8080/"
        },
        "id": "AZL_gTV13ZLd",
        "outputId": "ad64d10d-2dcb-480f-af79-9a64947fb7f2"
      },
      "execution_count": 29,
      "outputs": [
        {
          "output_type": "stream",
          "name": "stdout",
          "text": [
            "Array Items: array('i', [1, 2, 3, 4, 5, 6, 7, 8, 9, 10])\n",
            "element @ index 0: 1\n",
            "element @ index 1: 2\n",
            "element @ index 2: 3\n",
            "element @ index 3: 4\n",
            "element @ index 4: 5\n",
            "element @ index 5: 6\n",
            "element @ index 6: 7\n",
            "element @ index 7: 8\n",
            "element @ index 8: 9\n",
            "element @ index 9: 10\n",
            "Sum: 55\n"
          ]
        }
      ]
    },
    {
      "cell_type": "code",
      "source": [
        "#2\n",
        "numbers = [1, 2, 3, 4, 5, 6, 7, 8, 9, 10]\n",
        "x = int(input('Input number to append:'))\n",
        "numbers.append(x)\n",
        "print(numbers)\\"
      ],
      "metadata": {
        "colab": {
          "base_uri": "https://localhost:8080/"
        },
        "id": "jLpWBDUc3YXe",
        "outputId": "5a68d86d-6af4-46b4-ea53-cda8e9d24698"
      },
      "execution_count": 30,
      "outputs": [
        {
          "output_type": "stream",
          "name": "stdout",
          "text": [
            "Input number to append:121\n",
            "[1, 2, 3, 4, 5, 6, 7, 8, 9, 10, 121]\n"
          ]
        }
      ]
    },
    {
      "cell_type": "code",
      "source": [
        "#3\n",
        "numbers = [1, 2, 3, 4, 5, 6, 7, 8, 9, 10]\n",
        "numbers.insert(1, 200)\n",
        "print(numbers)"
      ],
      "metadata": {
        "colab": {
          "base_uri": "https://localhost:8080/"
        },
        "id": "YS00lZvtrPlS",
        "outputId": "24e9007e-fbb4-4382-96c4-906b9f6456f6"
      },
      "execution_count": 31,
      "outputs": [
        {
          "output_type": "stream",
          "name": "stdout",
          "text": [
            "[1, 200, 2, 3, 4, 5, 6, 7, 8, 9, 10]\n"
          ]
        }
      ]
    },
    {
      "cell_type": "code",
      "source": [
        "#4\n",
        "numbers = [1, 2, 3, 4, 5, 6, 7, 8, 9, 10]\n",
        "numbers.reverse()\n",
        "print(numbers)"
      ],
      "metadata": {
        "colab": {
          "base_uri": "https://localhost:8080/"
        },
        "id": "AfPZkhZXxQz_",
        "outputId": "9afa4aa4-1186-4c5a-e20d-66ff43b4066c"
      },
      "execution_count": 32,
      "outputs": [
        {
          "output_type": "stream",
          "name": "stdout",
          "text": [
            "[10, 9, 8, 7, 6, 5, 4, 3, 2, 1]\n"
          ]
        }
      ]
    },
    {
      "cell_type": "code",
      "source": [
        "#5\n",
        "numbers = [5,4,3,2,1]\n",
        "array_length = len(numbers)\n",
        "print(\"Length of the array:\", array_length)"
      ],
      "metadata": {
        "colab": {
          "base_uri": "https://localhost:8080/"
        },
        "id": "lkNcHZPW3Zp1",
        "outputId": "bae9472f-e999-4421-c119-88484076d98f"
      },
      "execution_count": 33,
      "outputs": [
        {
          "output_type": "stream",
          "name": "stdout",
          "text": [
            "Length of the array: 5\n"
          ]
        }
      ]
    }
  ]
}