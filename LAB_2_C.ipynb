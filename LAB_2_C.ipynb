{
  "nbformat": 4,
  "nbformat_minor": 0,
  "metadata": {
    "colab": {
      "provenance": [],
      "authorship_tag": "ABX9TyOUfXkdrEuEUKrFHYkQEPFU",
      "include_colab_link": true
    },
    "kernelspec": {
      "name": "python3",
      "display_name": "Python 3"
    },
    "language_info": {
      "name": "python"
    }
  },
  "cells": [
    {
      "cell_type": "markdown",
      "metadata": {
        "id": "view-in-github",
        "colab_type": "text"
      },
      "source": [
        "<a href=\"https://colab.research.google.com/github/buenaflorJ-nine/DSAA_LabActivities/blob/main/LAB_2_C.ipynb\" target=\"_parent\"><img src=\"https://colab.research.google.com/assets/colab-badge.svg\" alt=\"Open In Colab\"/></a>"
      ]
    },
    {
      "cell_type": "code",
      "execution_count": 1,
      "metadata": {
        "colab": {
          "base_uri": "https://localhost:8080/"
        },
        "id": "2pyqLeX3NFbv",
        "outputId": "bdf0df98-35de-4595-81bc-6c20e389468d"
      },
      "outputs": [
        {
          "output_type": "stream",
          "name": "stdout",
          "text": [
            "Minimum value: -5\n",
            "Maximum value: 20\n"
          ]
        }
      ],
      "source": [
        "def find_min_max(numbers):\n",
        "  if len(numbers)==1:\n",
        "    return numbers[0], numbers[0]\n",
        "\n",
        "  min_rest, max_rest = find_min_max(numbers[1:])\n",
        "  return min(numbers[0], min_rest), max(numbers[0], max_rest)\n",
        "\n",
        "numbers = [-5, 1, 2, 10, 20]\n",
        "min_val, max_val = find_min_max(numbers)\n",
        "print(f\"Minimum value: {min_val}\")\n",
        "print(f\"Maximum value: {max_val}\")"
      ]
    },
    {
      "cell_type": "code",
      "source": [
        "class User:\n",
        "    def __init__(self, username, password):\n",
        "        self.username = username\n",
        "        self.password = password\n",
        "\n",
        "    def buy_book(self, book):\n",
        "        pass\n",
        "\n",
        "    def view_purchased_books(self):\n",
        "        pass\n",
        "\n",
        "    def read_book(self, book):\n",
        "        pass\n",
        "\n",
        "class Book:\n",
        "    def __init__(self, title, author, price, genre):\n",
        "        self.title = title\n",
        "        self.author = author\n",
        "        self.price = price\n",
        "        self.genre = genre\n",
        "\n",
        "    def update_info(self, title, author, price, genre):\n",
        "        pass\n",
        "\n",
        "    def display_info(self):\n",
        "        pass\n",
        "\n",
        "class Payment:\n",
        "    def __init__(self, amount, payment_type):\n",
        "        self.amount = amount\n",
        "        self.payment_type = payment_type\n",
        "\n",
        "    def process_payment(self):\n",
        "        pass\n",
        "\n",
        "    def handle_refund(self):\n",
        "        pass\n",
        "\n"
      ],
      "metadata": {
        "id": "ewwt9LnVRwT0"
      },
      "execution_count": 6,
      "outputs": []
    }
  ]
}